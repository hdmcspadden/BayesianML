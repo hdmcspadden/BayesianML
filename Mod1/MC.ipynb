{
 "cells": [
  {
   "cell_type": "code",
   "execution_count": 6,
   "source": [
    "# This is a simulation of repeating the Monte Hall problem with randomly selected !strategies.\n",
    "import numpy as np\n",
    "doors = [0,1,2]\n",
    "\n",
    "count = 0\n",
    "countSwitch_win = 0\n",
    "countSwitch_goat = 0\n",
    "countStay_win = 0\n",
    "countStay_goat = 0\n",
    "\n",
    "for i in range(10000):\n",
    "    # choose a strategy at random\n",
    "    strategy = np.random.choice(['switch','stay'])\n",
    "    # car location is chosen randomly\n",
    "    Car_location = np.random.choice([0,1,2])\n",
    "    # contestant makes a random choice\n",
    "    Contestant_Choice = np.random.choice([0,1,2])\n",
    "    # Host reveals a door:\n",
    "    remaining_doors = [door for door in doors if door not in (Car_location, Contestant_Choice)]\n",
    "    Host_door = np.random.choice(remaining_doors)\n",
    "    # switch doors if this is the strategy\n",
    "    \n",
    "    # increment count\n",
    "    count +=1\n",
    "\n",
    "    if strategy == 'switch':\n",
    "        Contestant_Choice = [door for door in doors if door not in (Contestant_Choice, Host_door)]\n",
    "    \n",
    "    # determine if we won or not\n",
    "    if Contestant_Choice == Car_location:\n",
    "        #print('Strategy: '+strategy+' and you win!')\n",
    "        if strategy == 'switch':\n",
    "            countSwitch_win +=1\n",
    "        else:\n",
    "            countStay_win +=1\n",
    "    else:\n",
    "        #print('Strategy: '+strategy+' and you get a goat.')\n",
    "        if strategy == 'switch':\n",
    "            countSwitch_goat +=1\n",
    "        else:\n",
    "            countStay_goat +=1\n",
    "\n",
    "print(\"Total Count: {}\".format(count))\n",
    "print(\"Total Switch Win: {} ({})\".format(countSwitch_win, countSwitch_win / count))\n",
    "print(\"Total Switch Goat: {} ({})\".format(countSwitch_goat, countSwitch_goat / count))\n",
    "print(\"Total Stay Win: {} ({})\".format(countStay_win, countStay_win / count))\n",
    "print(\"Total Stay Goat: {} ({})\".format(countStay_goat, countStay_goat / count))"
   ],
   "outputs": [
    {
     "output_type": "stream",
     "name": "stdout",
     "text": [
      "Total Count: 10000\n",
      "Total Switch Win: 3393 (0.3393)\n",
      "Total Switch Goat: 1620 (0.162)\n",
      "Total Stay Win: 1673 (0.1673)\n",
      "Total Stay Goat: 3314 (0.3314)\n"
     ]
    }
   ],
   "metadata": {}
  }
 ],
 "metadata": {
  "orig_nbformat": 4,
  "language_info": {
   "name": "python",
   "version": "3.9.5",
   "mimetype": "text/x-python",
   "codemirror_mode": {
    "name": "ipython",
    "version": 3
   },
   "pygments_lexer": "ipython3",
   "nbconvert_exporter": "python",
   "file_extension": ".py"
  },
  "kernelspec": {
   "name": "python3",
   "display_name": "Python 3.9.5 64-bit"
  },
  "interpreter": {
   "hash": "34b722ad9db4b3bab2fc22ea7ad4e4dafa3a71a0a38143cc4f1aba484bf1fe4b"
  }
 },
 "nbformat": 4,
 "nbformat_minor": 2
}