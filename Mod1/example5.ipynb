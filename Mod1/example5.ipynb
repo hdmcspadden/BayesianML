{
 "cells": [
  {
   "cell_type": "code",
   "execution_count": 1,
   "source": [
    "import numpy as np\n",
    "from scipy.stats import binom"
   ],
   "outputs": [],
   "metadata": {}
  },
  {
   "cell_type": "code",
   "execution_count": 2,
   "source": [
    "# Comoute the likelihood for a type A coin\n",
    "k = 68\n",
    "N = 100\n",
    "p = 0.5\n",
    "likelihood_A = binom.pmf(k, N, p)\n",
    "print(likelihood_A)"
   ],
   "outputs": [
    {
     "output_type": "stream",
     "name": "stdout",
     "text": [
      "0.00011281697127223024\n"
     ]
    }
   ],
   "metadata": {}
  },
  {
   "cell_type": "code",
   "execution_count": 3,
   "source": [
    "\n",
    "# Comoute the likelihood for a type B coin\n",
    "k = 68\n",
    "N = 100\n",
    "p = 0.75\n",
    "likelihood_B = binom.pmf(k, N, p)\n",
    "print(likelihood_B)"
   ],
   "outputs": [
    {
     "output_type": "stream",
     "name": "stdout",
     "text": [
      "0.024752563929060323\n"
     ]
    }
   ],
   "metadata": {}
  },
  {
   "cell_type": "code",
   "execution_count": 10,
   "source": [
    "\n",
    "# Comoute the likelihood for a type C coin\n",
    "k = 68\n",
    "N = 100\n",
    "p = 0.65\n",
    "likelihood_C = binom.pmf(k, N, p)\n",
    "print(likelihood_C)"
   ],
   "outputs": [
    {
     "output_type": "stream",
     "name": "stdout",
     "text": [
      "0.06976854622494931\n"
     ]
    }
   ],
   "metadata": {}
  },
  {
   "cell_type": "code",
   "execution_count": 11,
   "source": [
    "# Create variables for the priors\n",
    "prior_A = 0.998\n",
    "prior_B = 0.001\n",
    "prior_C = 0.001"
   ],
   "outputs": [],
   "metadata": {}
  },
  {
   "cell_type": "code",
   "execution_count": 12,
   "source": [
    "# Compute the total probability\n",
    "total_probabilty = likelihood_A*prior_A + likelihood_B*prior_B + likelihood_C*prior_C\n",
    "print(total_probabilty)"
   ],
   "outputs": [
    {
     "output_type": "stream",
     "name": "stdout",
     "text": [
      "0.0002071124474836954\n"
     ]
    }
   ],
   "metadata": {}
  },
  {
   "cell_type": "code",
   "execution_count": 13,
   "source": [
    "# Compute the posterior probabilities\n",
    "probability_type_A = likelihood_A*prior_A/total_probabilty\n",
    "print(probability_type_A)\n",
    "probability_type_B = likelihood_B*prior_B/total_probabilty\n",
    "print(probability_type_B)\n",
    "probability_type_C = likelihood_C*prior_C/total_probabilty\n",
    "print(probability_type_C)"
   ],
   "outputs": [
    {
     "output_type": "stream",
     "name": "stdout",
     "text": [
      "0.5436241939951454\n",
      "0.11951268129844746\n",
      "0.3368631247064072\n"
     ]
    }
   ],
   "metadata": {}
  },
  {
   "cell_type": "code",
   "execution_count": 14,
   "source": [
    "\n",
    "# Same computation, but using vectors\n",
    "likelihoods = np.asarray([likelihood_A,likelihood_B])\n",
    "priors = np.asarray([prior_A,prior_B])\n",
    "posterior_probabilities = likelihoods*priors/total_probabilty\n",
    "print(posterior_probabilities)"
   ],
   "outputs": [
    {
     "output_type": "stream",
     "name": "stdout",
     "text": [
      "[0.54362419 0.11951268]\n"
     ]
    }
   ],
   "metadata": {}
  }
 ],
 "metadata": {
  "orig_nbformat": 4,
  "language_info": {
   "name": "python",
   "version": "3.9.5",
   "mimetype": "text/x-python",
   "codemirror_mode": {
    "name": "ipython",
    "version": 3
   },
   "pygments_lexer": "ipython3",
   "nbconvert_exporter": "python",
   "file_extension": ".py"
  },
  "kernelspec": {
   "name": "python3",
   "display_name": "Python 3.9.5 64-bit"
  },
  "interpreter": {
   "hash": "34b722ad9db4b3bab2fc22ea7ad4e4dafa3a71a0a38143cc4f1aba484bf1fe4b"
  }
 },
 "nbformat": 4,
 "nbformat_minor": 2
}