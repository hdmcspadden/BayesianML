{
 "cells": [
  {
   "cell_type": "markdown",
   "source": [
    "# DS6040: Homework 1:\n",
    "## Probability Review and Priors\n",
    "\n",
    "## Diana McSpadden (hdm5s)\n",
    "\n",
    "### Q1 (15 points):\n",
    "You are a data science and are choosing between three approaches,\n",
    "A, B, and C, to a problem. \n",
    "\n",
    "* With approach A you will spend a total of four days coding and running an algorithm and it will not produce useful results. \n",
    "\n",
    "* With approach B you will spend a total of three days coding and running an algorithm and it will not produce useful results. \n",
    "\n",
    "* With approach C you will spend one day coding and running an algorithm and it will give the results you are looking for. \n",
    "\n",
    "You are equally likely to choose among unselected options. \n",
    "\n",
    "What is the expected time in days for you to obtain the results you are looking for? What is the variance on this time?\n",
    "\n",
    "#### Answer:\n",
    "P(A) = 0.33\n",
    "P(B) = 0.33\n",
    "P(C) = 0.33\n",
    "\n",
    "(4 * 0.33) + (3 * 0.33) + (1 * 0.33) = ??"
   ],
   "metadata": {}
  },
  {
   "cell_type": "code",
   "execution_count": 6,
   "source": [
    "print(\"{:1.2f} days\".format((4 * 0.33) + (3 * 0.33) + (1 * 0.33)))"
   ],
   "outputs": [
    {
     "output_type": "stream",
     "name": "stdout",
     "text": [
      "2.64 days\n"
     ]
    }
   ],
   "metadata": {}
  },
  {
   "cell_type": "markdown",
   "source": [
    "### Q2 (15 points) \n",
    "Suppose if it is sunny or not in Charlottesville depends on the weather\n",
    "of the last three days. Show how this can be modeled as a Markov chain\n",
    "\n",
    "#### Answer:\n"
   ],
   "metadata": {}
  },
  {
   "cell_type": "code",
   "execution_count": null,
   "source": [],
   "outputs": [],
   "metadata": {}
  },
  {
   "cell_type": "markdown",
   "source": [
    " ### Question 3 (15 points) \n",
    " Assume a Gaussian distribution for observations, Xi, i = 1, . . . , N\n",
    "with unknown mean, M, and known variance 5. Suppose the prior for M\n",
    "is Gaussian with variance 10. How large a random sample must be taken\n",
    "(i.e., what is the minimum value for N) to specify an interval having unit\n",
    "length of 1 such that the probability that M lies in this interval is 0.95?\n",
    "\n",
    "#### Answer:"
   ],
   "metadata": {}
  },
  {
   "cell_type": "code",
   "execution_count": null,
   "source": [],
   "outputs": [],
   "metadata": {}
  },
  {
   "cell_type": "markdown",
   "source": [
    "#### Question 4 (15 points) \n",
    "You have started an online business selling books that are of interest\n",
    "to your customers. A publisher has just given you a large book with\n",
    "photos from famous 20th century photographers. You think this book\n",
    "will appeal to people who have bought art books, history books and coffee\n",
    "table books. In an initial offering of the new book you collect data on\n",
    "purchases of the new book and combine these data with data from the\n",
    "past purchases (see ArtHistBooks.csv).\n",
    "\n",
    "Use Bayesian analysis to give the posterior probabilities for purchases of\n",
    "art books, history books and coffee table books, as well as, the separate\n",
    "probabilities for purchases of the new book given each possible combina\u0002tion of prior purchases of art books, history books and coffee table books.\n",
    "Do this by first using beta priors with values of the hyperparameters that\n",
    "represent lack of prior information. Then compute these probabilities\n",
    "again with beta priors that show strong weighting for low likelihood of a\n",
    "book purchase. Compare your results.\n",
    "\n",
    "#### Answer:\n"
   ],
   "metadata": {}
  },
  {
   "cell_type": "code",
   "execution_count": null,
   "source": [],
   "outputs": [],
   "metadata": {}
  },
  {
   "cell_type": "markdown",
   "source": [
    "#### Question 5 (15 points)\n",
    "The data set CHDdata.csv contains cases of coronary heart disease\n",
    "(CHD) and variables associated with the patient’s condition: systolic blood pressure, yearly tobacco use (in kg), low density lipoprotein (ldl),\n",
    "adiposity, family history (0 or 1), type A personality score (typea), obesity\n",
    "(body mass index), alcohol use, age, and the diagnosis of CHD (0 or 1).\n",
    "Perform a Bayesian analysis of these data that finds the posterior marginal\n",
    "probability distributions for the means for the data of patients with and\n",
    "without CHD. You should first standard scale (subtract the mean and\n",
    "divide by the standard deviation) all the numeric variables (remove family\n",
    "history and do not scale CHD). Then separate the data into two sets, one\n",
    "for patients with CHD and one for patients without CHD.\n",
    "\n",
    "Your priors for both groups should assume means of 0 for all variables\n",
    "and a correlation of 0 between all pairs of variables. You should assume\n",
    "all variances for the variables are 1. Use a prior alpha equal to one plus\n",
    "the number of predictor variables. Compute and compare the Bayesian\n",
    "estimates for the posterior means for each group.\n",
    "\n",
    "**For 5 extra credit points**, compute the probability of observing a point at\n",
    "least as extreme as the posterior mean of patients without coronary heart\n",
    "disease under the posterior distribution for the patients with coronary\n",
    "heart disease. Then compute the probability of observing a point at least\n",
    "as extreme as the posterior mean of patients with coronary heart disease\n",
    "under the posterior distribution for the patients without coronary heart\n",
    "disease.\n",
    "\n",
    "#### Answer:"
   ],
   "metadata": {}
  },
  {
   "cell_type": "code",
   "execution_count": null,
   "source": [],
   "outputs": [],
   "metadata": {}
  },
  {
   "cell_type": "markdown",
   "source": [
    "### Question 6 (10 points)\n",
    "\n",
    "See PowerPoint"
   ],
   "metadata": {}
  },
  {
   "cell_type": "markdown",
   "source": [
    "### Question 7 (15 points) \n",
    "\n",
    "Using the Python Notebook <https://www.kaggle.com/billbasener/pt2-probabilities-likelihoods-and-bayes-theorem>, \n",
    "complete the challenge ques\u0002tion from Section 6: Modify the code from Section 5 to and add the ability\n",
    "to use the posterior from conjugate prior function to output the posterior probability parameters given parameters and for a Gaussian Likelihood with known variance σ2\n",
    ", and use your modified function to create the Prior, Likelihood, Posterior plots as in Section 5 of the notebook.\n"
   ],
   "metadata": {}
  }
 ],
 "metadata": {
  "orig_nbformat": 4,
  "language_info": {
   "name": "python",
   "version": "3.9.5",
   "mimetype": "text/x-python",
   "codemirror_mode": {
    "name": "ipython",
    "version": 3
   },
   "pygments_lexer": "ipython3",
   "nbconvert_exporter": "python",
   "file_extension": ".py"
  },
  "kernelspec": {
   "name": "python3",
   "display_name": "Python 3.9.5 64-bit"
  },
  "interpreter": {
   "hash": "34b722ad9db4b3bab2fc22ea7ad4e4dafa3a71a0a38143cc4f1aba484bf1fe4b"
  }
 },
 "nbformat": 4,
 "nbformat_minor": 2
}