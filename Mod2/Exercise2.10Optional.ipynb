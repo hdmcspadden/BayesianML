{
 "cells": [
  {
   "cell_type": "markdown",
   "source": [
    "# Exercise 2.4 Noninformative Prior Distributions\n",
    "\n",
    "## H. Diana McSpadden (hdm5s)\n",
    "\n",
    "\n",
    "Instructions: You may discuss this assignment with other students in the class,\n",
    "but you must submit your own answers to the questions below. Include an\n",
    "honor pledge with your submission. Submit online and in PDF. This exercise is\n",
    "ungraded.\n",
    "\n",
    "\n",
    "### Question 1\n",
    "\n",
    "You work as a data scientist for a small software-as-a-service (SAS) company. \n",
    "\n",
    "Your CEO asks you to estimate the average time, **M1** and the average number of full time people **M2**, it will take to complete an addition to your main product. \n",
    "\n",
    "To do this, you assume f((M1, M2)|w) ∼ N(µ0, w)\n",
    "and f(w) ∼ Wishart(r, α). \n",
    "\n",
    "How can you make these prior distributions non-informative?\n",
    "\n",
    "#### Answer:\n",
    "\n",
    "f(w) should be a a constant, 0.5 for example.\n"
   ],
   "metadata": {}
  }
 ],
 "metadata": {
  "orig_nbformat": 4,
  "language_info": {
   "name": "python"
  }
 },
 "nbformat": 4,
 "nbformat_minor": 2
}