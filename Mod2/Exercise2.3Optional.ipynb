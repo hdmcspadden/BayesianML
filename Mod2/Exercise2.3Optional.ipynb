{
 "cells": [
  {
   "cell_type": "markdown",
   "source": [
    "# Exercise 2.1\n",
    "\n",
    "## H. Diana McSpadden (hdm5s)\n",
    "\n",
    "\n",
    "## Prior Distributions\n",
    "Instructions: You may discuss this assignment with other students in the class,\n",
    "but you must submit your own answers to the questions below. Include an\n",
    "honor pledge with your submission. Submit online and in PDF. This exercise is\n",
    "ungraded.\n",
    "\n",
    "### Question 1. \n",
    "Ask a friend to estimate the distance from the earth to the sun. \n",
    "\n",
    "Then by using a draw of a value, U, from a uniform distribution, find your friend’s\n",
    "point of indifference, p, between a bet that your friend’s estimate is within\n",
    "10% of the correct distance to the sun and a bet that U < p.\n",
    "\n",
    "\n",
    "#### Answer:\n",
    "* Friend Guess is 2,500,000 kilometers to the sun\n",
    "\n",
    "I think I am trying to find:\n",
    "* p(Within 10% of truth | Friend's Guess), \n",
    "* p(U < p)\n",
    "* **I don't understand the P(U < p) part** "
   ],
   "metadata": {}
  },
  {
   "cell_type": "code",
   "execution_count": 2,
   "source": [
    "#pip install pymc3"
   ],
   "outputs": [
    {
     "output_type": "stream",
     "name": "stdout",
     "text": [
      "Requirement already satisfied: pymc3 in c:\\users\\dianam\\appdata\\local\\programs\\python\\python39\\lib\\site-packages (3.11.4)\n",
      "Requirement already satisfied: dill in c:\\users\\dianam\\appdata\\local\\programs\\python\\python39\\lib\\site-packages (from pymc3) (0.3.4)\n",
      "Requirement already satisfied: arviz>=0.11.0 in c:\\users\\dianam\\appdata\\local\\programs\\python\\python39\\lib\\site-packages (from pymc3) (0.11.2)\n",
      "Requirement already satisfied: cachetools>=4.2.1 in c:\\users\\dianam\\appdata\\local\\programs\\python\\python39\\lib\\site-packages (from pymc3) (4.2.2)\n",
      "Requirement already satisfied: numpy>=1.15.0 in c:\\users\\dianam\\appdata\\local\\programs\\python\\python39\\lib\\site-packages (from pymc3) (1.20.3)\n",
      "Requirement already satisfied: semver>=2.13.0 in c:\\users\\dianam\\appdata\\local\\programs\\python\\python39\\lib\\site-packages (from pymc3) (2.13.0)\n",
      "Requirement already satisfied: theano-pymc==1.1.2 in c:\\users\\dianam\\appdata\\local\\programs\\python\\python39\\lib\\site-packages (from pymc3) (1.1.2)\n",
      "Requirement already satisfied: typing-extensions>=3.7.4 in c:\\users\\dianam\\appdata\\local\\programs\\python\\python39\\lib\\site-packages (from pymc3) (3.10.0.2)\n",
      "Requirement already satisfied: fastprogress>=0.2.0 in c:\\users\\dianam\\appdata\\local\\programs\\python\\python39\\lib\\site-packages (from pymc3) (1.0.0)\n",
      "Requirement already satisfied: patsy>=0.5.1 in c:\\users\\dianam\\appdata\\local\\programs\\python\\python39\\lib\\site-packages (from pymc3) (0.5.1)\n",
      "Requirement already satisfied: scipy>=1.2.0 in c:\\users\\dianam\\appdata\\local\\programs\\python\\python39\\lib\\site-packages (from pymc3) (1.7.0)\n",
      "Requirement already satisfied: pandas>=0.24.0 in c:\\users\\dianam\\appdata\\local\\programs\\python\\python39\\lib\\site-packages (from pymc3) (1.2.5)\n",
      "Requirement already satisfied: filelock in c:\\users\\dianam\\appdata\\local\\programs\\python\\python39\\lib\\site-packages (from theano-pymc==1.1.2->pymc3) (3.0.12)\n",
      "Requirement already satisfied: setuptools>=38.4 in c:\\users\\dianam\\appdata\\local\\programs\\python\\python39\\lib\\site-packages (from arviz>=0.11.0->pymc3) (56.0.0)\n",
      "Requirement already satisfied: xarray>=0.16.1 in c:\\users\\dianam\\appdata\\local\\programs\\python\\python39\\lib\\site-packages (from arviz>=0.11.0->pymc3) (0.19.0)\n",
      "Requirement already satisfied: matplotlib>=3.0 in c:\\users\\dianam\\appdata\\local\\programs\\python\\python39\\lib\\site-packages (from arviz>=0.11.0->pymc3) (3.4.2)\n",
      "Requirement already satisfied: netcdf4 in c:\\users\\dianam\\appdata\\local\\programs\\python\\python39\\lib\\site-packages (from arviz>=0.11.0->pymc3) (1.5.7)\n",
      "Requirement already satisfied: packaging in c:\\users\\dianam\\appdata\\local\\programs\\python\\python39\\lib\\site-packages (from arviz>=0.11.0->pymc3) (20.9)\n",
      "Requirement already satisfied: pillow>=6.2.0 in c:\\users\\dianam\\appdata\\local\\programs\\python\\python39\\lib\\site-packages (from matplotlib>=3.0->arviz>=0.11.0->pymc3) (8.2.0)\n",
      "Requirement already satisfied: kiwisolver>=1.0.1 in c:\\users\\dianam\\appdata\\local\\programs\\python\\python39\\lib\\site-packages (from matplotlib>=3.0->arviz>=0.11.0->pymc3) (1.3.1)\n",
      "Requirement already satisfied: pyparsing>=2.2.1 in c:\\users\\dianam\\appdata\\local\\programs\\python\\python39\\lib\\site-packages (from matplotlib>=3.0->arviz>=0.11.0->pymc3) (2.4.7)\n",
      "Requirement already satisfied: python-dateutil>=2.7 in c:\\users\\dianam\\appdata\\roaming\\python\\python39\\site-packages (from matplotlib>=3.0->arviz>=0.11.0->pymc3) (2.8.1)\n",
      "Requirement already satisfied: cycler>=0.10 in c:\\users\\dianam\\appdata\\local\\programs\\python\\python39\\lib\\site-packages (from matplotlib>=3.0->arviz>=0.11.0->pymc3) (0.10.0)\n",
      "Requirement already satisfied: six in c:\\users\\dianam\\appdata\\roaming\\python\\python39\\site-packages (from cycler>=0.10->matplotlib>=3.0->arviz>=0.11.0->pymc3) (1.16.0)\n",
      "Requirement already satisfied: pytz>=2017.3 in c:\\users\\dianam\\appdata\\local\\programs\\python\\python39\\lib\\site-packages (from pandas>=0.24.0->pymc3) (2021.1)\n",
      "Requirement already satisfied: cftime in c:\\users\\dianam\\appdata\\local\\programs\\python\\python39\\lib\\site-packages (from netcdf4->arviz>=0.11.0->pymc3) (1.5.0)\n",
      "Note: you may need to restart the kernel to use updated packages.\n"
     ]
    }
   ],
   "metadata": {}
  },
  {
   "cell_type": "code",
   "execution_count": 36,
   "source": [
    "import pymc3 as mc\n",
    "# draw from a uniform distribution from 0 - X\n",
    "dis_min,dis_max=1e+6,5e+10\n",
    "\n",
    "priors={}\n",
    "\n",
    "with mc.Model() as model_g:\n",
    "    K = mc.Uniform('K', lower=dis_min, upper=dis_max)\n",
    "    trace_g = mc.sample(100, tune=3)\n",
    "\n",
    "\n",
    "priors[\"K\"]=K\n"
   ],
   "outputs": [
    {
     "output_type": "stream",
     "name": "stderr",
     "text": [
      "<ipython-input-36-6dc68674b711>:9: FutureWarning: In v4.0, pm.sample will return an `arviz.InferenceData` object instead of a `MultiTrace` by default. You can pass return_inferencedata=True or return_inferencedata=False to be safe and silence this warning.\n",
      "  trace_g = mc.sample(100, tune=3)\n",
      "Only 100 samples in chain.\n",
      "Auto-assigning NUTS sampler...\n",
      "Initializing NUTS using jitter+adapt_diag...\n",
      "Multiprocess sampling (4 chains in 4 jobs)\n",
      "NUTS: [K]\n"
     ]
    },
    {
     "output_type": "display_data",
     "data": {
      "text/plain": [
       "<IPython.core.display.HTML object>"
      ],
      "text/html": [
       "\n",
       "    <div>\n",
       "        <style>\n",
       "            /* Turns off some styling */\n",
       "            progress {\n",
       "                /* gets rid of default border in Firefox and Opera. */\n",
       "                border: none;\n",
       "                /* Needs to be in here for Safari polyfill so background images work as expected. */\n",
       "                background-size: auto;\n",
       "            }\n",
       "            .progress-bar-interrupted, .progress-bar-interrupted::-webkit-progress-bar {\n",
       "                background: #F44336;\n",
       "            }\n",
       "        </style>\n",
       "      <progress value='412' class='' max='412' style='width:300px; height:20px; vertical-align: middle;'></progress>\n",
       "      100.00% [412/412 00:00<00:00 Sampling 4 chains, 0 divergences]\n",
       "    </div>\n",
       "    "
      ]
     },
     "metadata": {}
    },
    {
     "output_type": "stream",
     "name": "stderr",
     "text": [
      "Sampling 4 chains for 3 tune and 100 draw iterations (12 + 400 draws total) took 10 seconds.\n",
      "The acceptance probability does not match the target. It is 0.9333699675381132, but should be close to 0.8. Try to increase the number of tuning steps.\n",
      "The acceptance probability does not match the target. It is 0.5435620926949517, but should be close to 0.8. Try to increase the number of tuning steps.\n",
      "The acceptance probability does not match the target. It is 0.6914446073284125, but should be close to 0.8. Try to increase the number of tuning steps.\n"
     ]
    }
   ],
   "metadata": {}
  },
  {
   "cell_type": "code",
   "execution_count": 37,
   "source": [
    "U = trace_g[0][\"K\"] # this is one sample\n",
    "U"
   ],
   "outputs": [
    {
     "output_type": "execute_result",
     "data": {
      "text/plain": [
       "32093079550.216183"
      ]
     },
     "metadata": {},
     "execution_count": 37
    }
   ],
   "metadata": {}
  },
  {
   "cell_type": "markdown",
   "source": [
    "A very naïve way I could interpret this question could be that U = 0.5, and a bet that my friend's guess is within 10% is 0.2, and the halfway between 0.5 and 0.2 is **0.35**."
   ],
   "metadata": {}
  },
  {
   "cell_type": "code",
   "execution_count": null,
   "source": [],
   "outputs": [],
   "metadata": {}
  }
 ],
 "metadata": {
  "orig_nbformat": 4,
  "language_info": {
   "name": "python",
   "version": "3.9.5",
   "mimetype": "text/x-python",
   "codemirror_mode": {
    "name": "ipython",
    "version": 3
   },
   "pygments_lexer": "ipython3",
   "nbconvert_exporter": "python",
   "file_extension": ".py"
  },
  "kernelspec": {
   "name": "python3",
   "display_name": "Python 3.9.5 64-bit"
  },
  "interpreter": {
   "hash": "34b722ad9db4b3bab2fc22ea7ad4e4dafa3a71a0a38143cc4f1aba484bf1fe4b"
  }
 },
 "nbformat": 4,
 "nbformat_minor": 2
}