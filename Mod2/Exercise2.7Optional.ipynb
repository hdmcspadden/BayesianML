{
 "cells": [
  {
   "cell_type": "markdown",
   "source": [
    "# Exercise 2.3\n",
    "\n",
    "## H. Diana McSpadden (hdm5s)\n",
    "\n",
    "\n",
    "## Univariate Conjugates\n",
    "Instructions: You may discuss this assignment with other students in the class,\n",
    "but you must submit your own answers to the questions below. Include an\n",
    "honor pledge with your submission. Submit online and in PDF. This exercise is\n",
    "ungraded.\n",
    "\n",
    "### Question 1. \n",
    "Determine characteristics that contribute to vehicular accidents using accident report data as follows:\n",
    "We have variables:\n",
    "* d == drunk {0,1}\n",
    "* t = texting {0,1}\n",
    "* c = crash outcome {0,1,2}\n",
    "    * 0: <= $5k in damages\n",
    "    * 1: > $5k in damanages, and no injury or death\n",
    "    * 2: injury or death"
   ],
   "metadata": {}
  },
  {
   "cell_type": "code",
   "execution_count": 1,
   "source": [
    "import pandas as pd\n",
    "import numpy as np"
   ],
   "outputs": [],
   "metadata": {}
  },
  {
   "cell_type": "code",
   "execution_count": 4,
   "source": [
    "data = {'d' : [1,1,0,0,1,0,1],\n",
    "    't': [1,0,1,1,1,0,0],\n",
    "    'c': [2,0,1,0,2,0,1]}\n",
    "\n",
    "df_q1 = pd.DataFrame(data)\n",
    "df_q1"
   ],
   "outputs": [
    {
     "output_type": "execute_result",
     "data": {
      "text/plain": [
       "   d  t  c\n",
       "0  1  1  2\n",
       "1  1  0  0\n",
       "2  0  1  1\n",
       "3  0  1  0\n",
       "4  1  1  2\n",
       "5  0  0  0\n",
       "6  1  0  1"
      ],
      "text/html": [
       "<div>\n",
       "<style scoped>\n",
       "    .dataframe tbody tr th:only-of-type {\n",
       "        vertical-align: middle;\n",
       "    }\n",
       "\n",
       "    .dataframe tbody tr th {\n",
       "        vertical-align: top;\n",
       "    }\n",
       "\n",
       "    .dataframe thead th {\n",
       "        text-align: right;\n",
       "    }\n",
       "</style>\n",
       "<table border=\"1\" class=\"dataframe\">\n",
       "  <thead>\n",
       "    <tr style=\"text-align: right;\">\n",
       "      <th></th>\n",
       "      <th>d</th>\n",
       "      <th>t</th>\n",
       "      <th>c</th>\n",
       "    </tr>\n",
       "  </thead>\n",
       "  <tbody>\n",
       "    <tr>\n",
       "      <th>0</th>\n",
       "      <td>1</td>\n",
       "      <td>1</td>\n",
       "      <td>2</td>\n",
       "    </tr>\n",
       "    <tr>\n",
       "      <th>1</th>\n",
       "      <td>1</td>\n",
       "      <td>0</td>\n",
       "      <td>0</td>\n",
       "    </tr>\n",
       "    <tr>\n",
       "      <th>2</th>\n",
       "      <td>0</td>\n",
       "      <td>1</td>\n",
       "      <td>1</td>\n",
       "    </tr>\n",
       "    <tr>\n",
       "      <th>3</th>\n",
       "      <td>0</td>\n",
       "      <td>1</td>\n",
       "      <td>0</td>\n",
       "    </tr>\n",
       "    <tr>\n",
       "      <th>4</th>\n",
       "      <td>1</td>\n",
       "      <td>1</td>\n",
       "      <td>2</td>\n",
       "    </tr>\n",
       "    <tr>\n",
       "      <th>5</th>\n",
       "      <td>0</td>\n",
       "      <td>0</td>\n",
       "      <td>0</td>\n",
       "    </tr>\n",
       "    <tr>\n",
       "      <th>6</th>\n",
       "      <td>1</td>\n",
       "      <td>0</td>\n",
       "      <td>1</td>\n",
       "    </tr>\n",
       "  </tbody>\n",
       "</table>\n",
       "</div>"
      ]
     },
     "metadata": {},
     "execution_count": 4
    }
   ],
   "metadata": {}
  },
  {
   "cell_type": "markdown",
   "source": [
    "### Question 2c\n",
    "You work as a data scientist for a small software-as-a-service (SAS) company. Your CEO asks you to estimate the average time, M1 and the average number of full time people M2, it will take to complete an addition to\n",
    "your main product. To do this, you assume f((M1, M2)|w) ∼ N(µ0, vw)\n",
    "with E[µ0 = (3, 4.5) (months and full time people) based on the equivalent of 3 observations (i.e., v = 3). Also, f(w) ∼ Wishart(r, α) where\n",
    "α = 2 and\n",
    "r =\n",
    "\u0014\n",
    "1 .5\n",
    ".5 1.5\n",
    "\u0015\n",
    "Find the marginal prior for (M1, M2)\n",
    "\n",
    "#### Answer:"
   ],
   "metadata": {}
  },
  {
   "cell_type": "code",
   "execution_count": null,
   "source": [],
   "outputs": [],
   "metadata": {}
  }
 ],
 "metadata": {
  "orig_nbformat": 4,
  "language_info": {
   "name": "python",
   "version": "3.9.5",
   "mimetype": "text/x-python",
   "codemirror_mode": {
    "name": "ipython",
    "version": 3
   },
   "pygments_lexer": "ipython3",
   "nbconvert_exporter": "python",
   "file_extension": ".py"
  },
  "kernelspec": {
   "name": "python3",
   "display_name": "Python 3.9.5 64-bit"
  },
  "interpreter": {
   "hash": "34b722ad9db4b3bab2fc22ea7ad4e4dafa3a71a0a38143cc4f1aba484bf1fe4b"
  }
 },
 "nbformat": 4,
 "nbformat_minor": 2
}