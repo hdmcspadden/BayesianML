{
 "cells": [
  {
   "cell_type": "markdown",
   "source": [
    "# DS6040: Homework 2 (module 3.5): Bayes Classifiers as Linear Discriminants\n",
    "\n",
    "## Diana McSpadden (hdm5s)\n",
    "\n",
    "Instructions: You may discuss this assignment with other students in the class,\n",
    "but you must submit your own answers to the questions below. Include an\n",
    "honor pledge with your submission. Submit on-line and in pdf. This exercise is\n",
    "ungraded.\n",
    "\n",
    "## Q1: Posterior Probabilities with LDA and QDA\n",
    "\n"
   ],
   "metadata": {}
  }
 ],
 "metadata": {
  "orig_nbformat": 4,
  "language_info": {
   "name": "python"
  }
 },
 "nbformat": 4,
 "nbformat_minor": 2
}